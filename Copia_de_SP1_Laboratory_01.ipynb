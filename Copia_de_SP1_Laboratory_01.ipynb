{
  "nbformat": 4,
  "nbformat_minor": 0,
  "metadata": {
    "colab": {
      "provenance": [],
      "include_colab_link": true
    },
    "kernelspec": {
      "name": "python3",
      "display_name": "Python 3"
    },
    "language_info": {
      "name": "python"
    }
  },
  "cells": [
    {
      "cell_type": "markdown",
      "metadata": {
        "id": "view-in-github",
        "colab_type": "text"
      },
      "source": [
        "<a href=\"https://colab.research.google.com/github/poncho-ajmv/Proyecto6toSemestre/blob/main/Copia_de_SP1_Laboratory_01.ipynb\" target=\"_parent\"><img src=\"https://colab.research.google.com/assets/colab-badge.svg\" alt=\"Open In Colab\"/></a>"
      ]
    },
    {
      "cell_type": "markdown",
      "source": [
        "Nombre\n",
        "Carnet"
      ],
      "metadata": {
        "id": "tkhKf4MV27Qf"
      }
    },
    {
      "cell_type": "markdown",
      "metadata": {
        "id": "v2hOe4K0Hmut"
      },
      "source": [
        "## Preparations"
      ]
    },
    {
      "cell_type": "code",
      "metadata": {
        "id": "TEWUjG0IIJkk"
      },
      "source": [
        "# ----- Libraries ----- #\n",
        "\n",
        "# This is the main Library that allows us to work with Neural Networks\n",
        "import tensorflow as tf # estso es para trabaajar con redes neuronales\n",
        "\n",
        "\n",
        "# For graph plotting\n",
        "import matplotlib.pyplot as plt #Esto es para visualizar datos y visualizar métricas\n",
        "from tensorflow.math import confusion_matrix\n",
        "\n",
        "# For dataset manipulation\n",
        "import pandas as pd\n",
        "from sklearn.model_selection import train_test_split\n",
        "import numpy as np\n",
        "\n",
        "# For visualizing more complex graphs\n",
        "import seaborn as sns\n",
        "\n",
        "# Global constant for training acceleration\n",
        "AUTOTUNE = tf.data.AUTOTUNE"
      ],
      "execution_count": null,
      "outputs": []
    },
    {
      "cell_type": "markdown",
      "metadata": {
        "id": "GE_cmElZJ4PE"
      },
      "source": [
        "# Regression\n"
      ]
    },
    {
      "cell_type": "markdown",
      "metadata": {
        "id": "ARASHphaKU6D"
      },
      "source": [
        "## 1) Dataset Preparations"
      ]
    },
    {
      "cell_type": "code",
      "metadata": {
        "id": "8KMmvqGMGOXu",
        "colab": {
          "base_uri": "https://localhost:8080/",
          "height": 36
        },
        "outputId": "11882120-9403-4bb3-9396-923f8e5c43d9"
      },
      "source": [
        "'''\n",
        "The dataset you are going to use is the following:\n",
        "https://archive.ics.uci.edu/ml/datasets/Auto+MPG\n",
        "'''\n",
        "\n",
        "# Retrieve the dataset\n",
        "# /* YOUR CODE HERE */\n",
        "\n",
        "import pandas as pd\n",
        "\n",
        "# URL del dataset\n",
        "url = \"https://archive.ics.uci.edu/ml/machine-learning-databases/auto-mpg/auto-mpg.data\"\n",
        "\n",
        "# Definir los nombres de las columnas (según la documentación del dataset)\n",
        "column_names = [\n",
        "    \"mpg\", \"cylinders\", \"displacement\", \"horsepower\",\n",
        "    \"weight\", \"acceleration\", \"model_year\", \"origin\", \"car_name\"\n",
        "]\n",
        "\n",
        "# Cargar el dataset en un DataFrame\n",
        "df = pd.read_csv(url, names=column_names, delim_whitespace=True, na_values=\"?\")\n",
        "\n",
        "# Mostrar las primeras filas del dataset\n",
        "print(df.head())\n"
      ],
      "execution_count": null,
      "outputs": [
        {
          "output_type": "execute_result",
          "data": {
            "text/plain": [
              "'\\nThe dataset you are going to use is the following:\\nhttps://archive.ics.uci.edu/ml/datasets/Auto+MPG\\n'"
            ],
            "application/vnd.google.colaboratory.intrinsic+json": {
              "type": "string"
            }
          },
          "metadata": {},
          "execution_count": 1
        }
      ]
    },
    {
      "cell_type": "code",
      "metadata": {
        "id": "tgXcpexoIG9P",
        "colab": {
          "base_uri": "https://localhost:8080/",
          "height": 176
        },
        "outputId": "1904ba7c-b3d6-40f7-cf76-8774efaf3c14"
      },
      "source": [
        "\n",
        "\n",
        "# Loading Dataset and have a glimpse about it\n",
        "column_names = ['MPG','Cylinders','Displacement','Horsepower','Weight', 'Acceleration', 'Model_Year', 'Origin']\n",
        "\n",
        "# /* YOUR CODE HERE */\n",
        "# Hint: Make sure to check out the files first! And pay attention how data is separated\n",
        "\n",
        "# Brief Statistical Summary of the dataset\n",
        "raw_dataset.describe()"
      ],
      "execution_count": null,
      "outputs": [
        {
          "output_type": "error",
          "ename": "NameError",
          "evalue": "name 'raw_dataset' is not defined",
          "traceback": [
            "\u001b[0;31m---------------------------------------------------------------------------\u001b[0m",
            "\u001b[0;31mNameError\u001b[0m                                 Traceback (most recent call last)",
            "\u001b[0;32m<ipython-input-2-4b6e6fd3dde8>\u001b[0m in \u001b[0;36m<cell line: 0>\u001b[0;34m()\u001b[0m\n\u001b[1;32m      6\u001b[0m \u001b[0;34m\u001b[0m\u001b[0m\n\u001b[1;32m      7\u001b[0m \u001b[0;31m# Brief Statistical Summary of the dataset\u001b[0m\u001b[0;34m\u001b[0m\u001b[0;34m\u001b[0m\u001b[0m\n\u001b[0;32m----> 8\u001b[0;31m \u001b[0mraw_dataset\u001b[0m\u001b[0;34m.\u001b[0m\u001b[0mdescribe\u001b[0m\u001b[0;34m(\u001b[0m\u001b[0;34m)\u001b[0m\u001b[0;34m\u001b[0m\u001b[0;34m\u001b[0m\u001b[0m\n\u001b[0m",
            "\u001b[0;31mNameError\u001b[0m: name 'raw_dataset' is not defined"
          ]
        }
      ]
    },
    {
      "cell_type": "code",
      "metadata": {
        "id": "6W3AsBCPQMHu"
      },
      "source": [
        "# Lets check columns\n",
        "raw_dataset.columns"
      ],
      "execution_count": null,
      "outputs": []
    },
    {
      "cell_type": "code",
      "metadata": {
        "id": "FsYYb14mKiz6"
      },
      "source": [
        "# Summary of the dataset\n",
        "raw_dataset.head()"
      ],
      "execution_count": null,
      "outputs": []
    },
    {
      "cell_type": "code",
      "metadata": {
        "id": "pc8kp61PKzl5"
      },
      "source": [
        "# Returns a form of (# rows, # columns)\n",
        "raw_dataset.shape"
      ],
      "execution_count": null,
      "outputs": []
    },
    {
      "cell_type": "code",
      "metadata": {
        "id": "taL7hSd9LHpj"
      },
      "source": [
        "# Lets make a copy\n",
        "new_dataset = raw_dataset.copy()\n",
        "\n",
        "# Lets check for null values\n",
        "print(new_dataset.isna().sum())\n",
        "\n",
        "# Dropping null rows\n",
        "new_dataset = new_dataset.dropna()\n",
        "\n",
        "# Checking new dataset\n",
        "new_dataset.head()"
      ],
      "execution_count": null,
      "outputs": []
    },
    {
      "cell_type": "code",
      "metadata": {
        "id": "l-wSRqvEPoLo"
      },
      "source": [
        "# Lets visualize the data\n",
        "\n",
        "# /* YOUR CODE HERE*/\n",
        "# Hint: Choose 5 NUMERICAL variables"
      ],
      "execution_count": null,
      "outputs": []
    },
    {
      "cell_type": "markdown",
      "metadata": {
        "id": "4rKsREMcO91a"
      },
      "source": [
        "## 2) NN for a simple Regression"
      ]
    },
    {
      "cell_type": "code",
      "metadata": {
        "id": "xolCD5p4QFa8"
      },
      "source": [
        "# Splitting dataset into training and testing\n",
        "train, test = train_test_split(new_dataset, test_size=0.2)\n",
        "\n",
        "# Sepparating both sets into dependent and independent variables\n",
        "\n",
        "# /* REPLACE 'None' WITH CODE YOUR CODE */\n",
        "# Hint: Make sure you select only numerical variables.\n",
        "# Feel free to choose the number of independent variables\n",
        "# you want and the dependent variable is MPG\n",
        "independent_variables = None\n",
        "dependent_variables = None\n",
        "\n",
        "train_set = train[independent_variables]\n",
        "train_target = train[dependent_variables]\n",
        "\n",
        "test_set = test[independent_variables]\n",
        "test_target = test[dependent_variables]"
      ],
      "execution_count": null,
      "outputs": []
    },
    {
      "cell_type": "code",
      "metadata": {
        "id": "efOETJ7cPkMO"
      },
      "source": [
        "# Build your model!\n",
        "# /* YOUR CODE HERE */\n",
        "\n",
        "# Now compile the model!\n",
        "# /* YOUR CODE HERE */"
      ],
      "execution_count": null,
      "outputs": []
    },
    {
      "cell_type": "code",
      "metadata": {
        "id": "IG1tt040L5d0"
      },
      "source": [
        "# Now lets train the model!\n",
        "# Hint: Feel free to change a few parameters\n",
        "model.fit(train_set,\n",
        "          train_target,\n",
        "          epochs=15,\n",
        "          batch_size = 128\n",
        "          validation_split=0.2\n",
        "        )"
      ],
      "execution_count": null,
      "outputs": []
    },
    {
      "cell_type": "code",
      "metadata": {
        "id": "UBGnFIGtJ_9e"
      },
      "source": [
        "# Evaluate your model\n",
        "model.evaluate(x=test_set, y=test_target, batch_size=128)"
      ],
      "execution_count": null,
      "outputs": []
    },
    {
      "cell_type": "markdown",
      "metadata": {
        "id": "ny4qW8UlP5LQ"
      },
      "source": [
        "# Classification"
      ]
    },
    {
      "cell_type": "markdown",
      "metadata": {
        "id": "okEGIBRLLg1z"
      },
      "source": [
        "## 1) Dataset Preparations"
      ]
    },
    {
      "cell_type": "code",
      "source": [
        "'''\n",
        "The dataset you are going to use is the following:\n",
        "https://archive.ics.uci.edu/ml/datasets/Ecoli\n",
        "'''\n",
        "\n",
        "# Retrieve the dataset\n",
        "# /* YOUR CODE HERE */"
      ],
      "metadata": {
        "id": "bG6-fqP_dg7a"
      },
      "execution_count": null,
      "outputs": []
    },
    {
      "cell_type": "code",
      "metadata": {
        "id": "ncn_CmxWYqL1"
      },
      "source": [
        "# Loading Dataset and have a glimpse about it\n",
        "column_names = ['name','MCG','GVH','LIP', 'CHG', 'AAC', 'AML1', 'ALM2', 'class']\n",
        "\n",
        "# /* YOUR CODE HERE */\n",
        "# Hint: Make sure to check out the files first! And pay attention how data is separated\n",
        "\n",
        "# Brief Statistical Summary of the dataset\n",
        "raw_dataset.describe()"
      ],
      "execution_count": null,
      "outputs": []
    },
    {
      "cell_type": "code",
      "metadata": {
        "id": "8I53Qd8obhFg"
      },
      "source": [
        "# Lets check columns\n",
        "raw_dataset.columns"
      ],
      "execution_count": null,
      "outputs": []
    },
    {
      "cell_type": "code",
      "metadata": {
        "id": "z2yDVbIpblVZ"
      },
      "source": [
        "# Summary of the dataset\n",
        "raw_dataset.head()"
      ],
      "execution_count": null,
      "outputs": []
    },
    {
      "cell_type": "code",
      "metadata": {
        "id": "iW8y5U8Tbnqf"
      },
      "source": [
        "# Returns a form of (# rows, # columns)\n",
        "raw_dataset.shape"
      ],
      "execution_count": null,
      "outputs": []
    },
    {
      "cell_type": "code",
      "metadata": {
        "id": "19wGecl7bpJd"
      },
      "source": [
        "# Lets make a copy\n",
        "new_dataset = raw_dataset.copy()\n",
        "\n",
        "# Lets check for null values\n",
        "# df.dropna()\n",
        "print(new_dataset.isna().sum())\n",
        "\n",
        "# Dropping null rows\n",
        "new_dataset = new_dataset.dropna()\n",
        "\n",
        "# Checking new dataset\n",
        "new_dataset.head()"
      ],
      "execution_count": null,
      "outputs": []
    },
    {
      "cell_type": "code",
      "metadata": {
        "id": "4SwagrZYbpp2"
      },
      "source": [
        "# Lets visualize the data\n",
        "\n",
        "# /* YOUR CODE HERE*/\n",
        "# Hint: Choose 5 NUMERICAL variables"
      ],
      "execution_count": null,
      "outputs": []
    },
    {
      "cell_type": "code",
      "metadata": {
        "id": "E5QchVy_bq_t"
      },
      "source": [
        "# Splitting dataset into training and testing\n",
        "train, test = train_test_split(new_dataset, test_size=0.2)\n",
        "\n",
        "# Sepparating both sets into dependent and independent variables\n",
        "\n",
        "# /* REPLACE 'None' WITH CODE YOUR CODE */\n",
        "# Hint: Make sure you select only numerical variables.\n",
        "# Feel free to choose the number you want and the dependent variables is MPG\n",
        "independent_variables = None\n",
        "dependent_variables = None\n",
        "\n",
        "train_set = train[independent_variables]\n",
        "train_target = train[dependent_variables]\n",
        "\n",
        "test_set = test[independent_variables]\n",
        "test_target = test[dependent_variables]"
      ],
      "execution_count": null,
      "outputs": []
    },
    {
      "cell_type": "code",
      "source": [
        "train_target, test_target"
      ],
      "metadata": {
        "id": "0ZbOA7bGfrNy"
      },
      "execution_count": null,
      "outputs": []
    },
    {
      "cell_type": "code",
      "source": [
        "# NNs can't understand strings, we have to ENCODE them! (more next class)\n",
        "train_target = pd.factorize(train_target['class'])[0]\n",
        "test_target = pd.factorize(test_target['class'])[0]"
      ],
      "metadata": {
        "id": "Piu9aiz9fp0o"
      },
      "execution_count": null,
      "outputs": []
    },
    {
      "cell_type": "markdown",
      "metadata": {
        "id": "R9NmOn_vecR3"
      },
      "source": [
        "## 2) NN for Classification"
      ]
    },
    {
      "cell_type": "code",
      "metadata": {
        "id": "17v9Qk4xcIPi"
      },
      "source": [
        "# Build your model!\n",
        "# /* YOUR CODE HERE */\n",
        "# Hint: Is this a binary or multiclassification problem?\n",
        "\n",
        "# Now compile the model!\n",
        "# /* YOUR CODE HERE */"
      ],
      "execution_count": null,
      "outputs": []
    },
    {
      "cell_type": "code",
      "source": [
        "# Evaluate your model\n",
        "model.evaluate(x=test_set, y=test_target, batch_size=128)"
      ],
      "metadata": {
        "id": "gTH5pRN2e_lp"
      },
      "execution_count": null,
      "outputs": []
    },
    {
      "cell_type": "code",
      "metadata": {
        "id": "8aTmhnXieaFe"
      },
      "source": [
        "# Function that plots confusion matrix\n",
        "def plot_confusion_matrix(labels, predictions):\n",
        "  figure = plt.figure(figsize=(4, 4))\n",
        "  sns.heatmap(confusion_matrix(labels=labels, predictions=predictions), annot=True,cmap=plt.cm.Blues)\n",
        "  plt.tight_layout()\n",
        "  plt.ylabel('True label')\n",
        "  plt.xlabel('Predicted label')\n",
        "  plt.show()\n",
        "\n",
        "# Confusion Matrix\n",
        "predictions = list(map(lambda x: np.argmax(x), model.predict(test_set)))\n",
        "\n",
        "plot_confusion_matrix(labels=test_target, predictions=predictions)"
      ],
      "execution_count": null,
      "outputs": []
    },
    {
      "cell_type": "markdown",
      "source": [
        "# Conclusiones\n",
        "\n",
        "After you are done with both previous models, make 3 different models for the regression problem and 3 for the classification problem.\n",
        "\n",
        "Annotate the results in a Text Cell below this one (only the metrics shown in the evaluation phase) and then write a conclusion which model was the best for each problem."
      ],
      "metadata": {
        "id": "iAJqiWUA_2RD"
      }
    },
    {
      "cell_type": "markdown",
      "source": [],
      "metadata": {
        "id": "5R9R8rk72lQl"
      }
    },
    {
      "cell_type": "markdown",
      "source": [
        "# READ ME\n",
        "\n",
        "When you are finished with your laboratory, remember to share it. Make the URL public for Galileo.edu domain or for everyone.\n",
        "Also, remember to hit Ctrl+S to save your progress."
      ],
      "metadata": {
        "id": "L3YiL9uhVBSf"
      }
    }
  ]
}
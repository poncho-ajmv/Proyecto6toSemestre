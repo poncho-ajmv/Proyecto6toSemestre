{
  "nbformat": 4,
  "nbformat_minor": 0,
  "metadata": {
    "colab": {
      "provenance": [],
      "authorship_tag": "ABX9TyOpUFdZzCJq8Xq5VzukBNyw",
      "include_colab_link": true
    },
    "kernelspec": {
      "name": "python3",
      "display_name": "Python 3"
    },
    "language_info": {
      "name": "python"
    }
  },
  "cells": [
    {
      "cell_type": "markdown",
      "metadata": {
        "id": "view-in-github",
        "colab_type": "text"
      },
      "source": [
        "<a href=\"https://colab.research.google.com/github/poncho-ajmv/Proyecto6toSemestre/blob/main/99.ipynb\" target=\"_parent\"><img src=\"https://colab.research.google.com/assets/colab-badge.svg\" alt=\"Open In Colab\"/></a>"
      ]
    },
    {
      "cell_type": "markdown",
      "source": [
        "# Clasificación de Teléfonos por Rango de Precio\n",
        "\n",
        "## Introducción\n",
        "Este proyecto tiene como objetivo clasificar los teléfonos de la compañía en rangos de precios (Baja, Media, Alta, Alta Gama) utilizando un modelo de Machine Learning. Para ello, seguiremos los siguientes pasos:\n",
        "\n",
        "1. Carga y exploración de datos.\n",
        "2. Preprocesamiento de datos.\n",
        "3. Entrenamiento del modelo.\n",
        "4. Evaluación del modelo.\n",
        "5. Matriz de confusión.\n"
      ],
      "metadata": {
        "id": "-cLoLFz5B3WY"
      }
    },
    {
      "cell_type": "code",
      "source": [
        "import pandas as pd\n",
        "from sklearn.preprocessing import LabelEncoder\n",
        "from sklearn.ensemble import RandomForestClassifier\n",
        "from sklearn.model_selection import train_test_split\n",
        "from sklearn.metrics import accuracy_score\n",
        "\n",
        "# Cargar los datasets\n",
        "dataset_telefonos = pd.read_csv('dataset_telefonos.csv')\n",
        "dataset_compania = pd.read_csv('dataset_telefonos_compania.csv')\n",
        "\n",
        "\n"
      ],
      "metadata": {
        "id": "E_HMZ2ekB4gA"
      },
      "execution_count": 34,
      "outputs": []
    },
    {
      "cell_type": "code",
      "source": [
        "# Verificar valores nulos\n",
        "print(\"Valores nulos en dataset_telefonos:\")\n",
        "print(dataset_telefonos.isnull().sum())\n",
        "\n",
        "print(\"\\nValores nulos en dataset_compania:\")\n",
        "print(dataset_compania.isnull().sum())\n",
        "\n",
        "# Estadísticas descriptivas\n",
        "print(\"\\nEstadísticas descriptivas de dataset_telefonos:\")\n",
        "print(dataset_telefonos.describe())\n",
        "\n",
        "print(\"\\nEstadísticas descriptivas de dataset_compania:\")\n",
        "print(dataset_compania.describe())"
      ],
      "metadata": {
        "colab": {
          "base_uri": "https://localhost:8080/"
        },
        "id": "Q2OhmV3bCCeM",
        "outputId": "4d4520b5-d289-4dbc-ab6e-d727b72a5be7"
      },
      "execution_count": 25,
      "outputs": [
        {
          "output_type": "stream",
          "name": "stdout",
          "text": [
            "Valores nulos en dataset_telefonos:\n",
            "screen_height      0\n",
            "screen_width       0\n",
            "weight_meassure    0\n",
            "clock_speed        0\n",
            "cores              0\n",
            "memory_capacity    0\n",
            "ram_capacity       0\n",
            "dual_sim           0\n",
            "bluetooth          0\n",
            "wifi               0\n",
            "price_range        0\n",
            "dtype: int64\n",
            "\n",
            "Valores nulos en dataset_compania:\n",
            "screen_height      0\n",
            "screen_width       0\n",
            "weight_meassure    0\n",
            "clock_speed        0\n",
            "cores              0\n",
            "memory_capacity    0\n",
            "ram_capacity       0\n",
            "dual_sim           0\n",
            "bluetooth          0\n",
            "wifi               0\n",
            "price_range        0\n",
            "dtype: int64\n",
            "\n",
            "Estadísticas descriptivas de dataset_telefonos:\n",
            "       screen_height  screen_width  weight_meassure  clock_speed  \\\n",
            "count    1950.000000   1950.000000      1950.000000  1950.000000   \n",
            "mean       12.319487      5.782564       140.209744     1.522667   \n",
            "std         4.216070      4.349520        35.372294     0.813918   \n",
            "min         5.000000      0.000000        80.000000     0.500000   \n",
            "25%         9.000000      2.000000       109.000000     0.700000   \n",
            "50%        12.000000      5.000000       141.000000     1.500000   \n",
            "75%        16.000000      9.000000       170.000000     2.200000   \n",
            "max        19.000000     18.000000       200.000000     3.000000   \n",
            "\n",
            "       memory_capacity  ram_capacity  \n",
            "count      1950.000000   1950.000000  \n",
            "mean         32.046667   2120.684103  \n",
            "std          18.162777   1086.869412  \n",
            "min           2.000000    256.000000  \n",
            "25%          16.000000   1205.000000  \n",
            "50%          32.000000   2130.500000  \n",
            "75%          48.000000   3067.500000  \n",
            "max          64.000000   3998.000000  \n",
            "\n",
            "Estadísticas descriptivas de dataset_compania:\n",
            "       screen_height  screen_width  weight_meassure  clock_speed  \\\n",
            "count      50.000000     50.000000        50.000000    50.000000   \n",
            "mean       11.800000      5.160000       141.780000     1.506000   \n",
            "std         4.110713      4.621865        36.786915     0.902471   \n",
            "min         6.000000      0.000000        81.000000     0.500000   \n",
            "25%         8.250000      1.000000       108.000000     0.500000   \n",
            "50%        11.000000      4.500000       141.500000     1.350000   \n",
            "75%        15.000000      8.000000       177.750000     2.300000   \n",
            "max        19.000000     17.000000       200.000000     3.000000   \n",
            "\n",
            "       memory_capacity  ram_capacity  \n",
            "count         50.00000     50.000000  \n",
            "mean          32.04000   2261.840000  \n",
            "std           17.64498    998.105662  \n",
            "min            2.00000    345.000000  \n",
            "25%           17.50000   1482.750000  \n",
            "50%           33.00000   2359.500000  \n",
            "75%           46.00000   2935.000000  \n",
            "max           64.00000   3991.000000  \n"
          ]
        }
      ]
    },
    {
      "cell_type": "code",
      "source": [
        "# Codificar variables categóricas (incluyendo 'cores')\n",
        "label_encoder = LabelEncoder()\n",
        "categorical_cols = ['dual_sim', 'bluetooth', 'wifi', 'cores']\n",
        "\n",
        "for col in categorical_cols:\n",
        "    # Ajustar y transformar en el dataset principal\n",
        "    dataset_telefonos[col] = label_encoder.fit_transform(dataset_telefonos[col].astype(str))\n",
        "    # Transformar en el dataset de la compañía (usar el mismo encoder)\n",
        "    dataset_compania[col] = label_encoder.transform(dataset_compania[col].astype(str))\n",
        "\n",
        "# Separar características (X) y variable objetivo (y)\n",
        "X = dataset_telefonos.drop('price_range', axis=1)\n",
        "y = dataset_telefonos['price_range']\n",
        "\n",
        "X_compania = dataset_compania.drop('price_range', axis=1)\n",
        "y_compania = dataset_compania['price_range']"
      ],
      "metadata": {
        "id": "RwOz7lPTCE07"
      },
      "execution_count": 26,
      "outputs": []
    },
    {
      "cell_type": "code",
      "source": [
        "# Dividir los datos en conjuntos de entrenamiento y prueba\n",
        "X_train, X_test, y_train, y_test = train_test_split(X, y, test_size=0.2, random_state=42)\n",
        "\n",
        "# Crear y entrenar el modelo\n",
        "model = RandomForestClassifier(random_state=42)\n",
        "model.fit(X_train, y_train)\n",
        "\n",
        "print(\"¡Modelo entrenado!\")"
      ],
      "metadata": {
        "colab": {
          "base_uri": "https://localhost:8080/"
        },
        "id": "-c_4H04eFkXg",
        "outputId": "25cfe673-1ffe-4bea-ac72-141425e8a1bc"
      },
      "execution_count": 27,
      "outputs": [
        {
          "output_type": "stream",
          "name": "stdout",
          "text": [
            "¡Modelo entrenado!\n"
          ]
        }
      ]
    },
    {
      "cell_type": "code",
      "source": [
        "print(dataset_telefonos['cores'].unique())  # Ejemplo: ['Quad-Core', 'Hepta-Core', ...]"
      ],
      "metadata": {
        "colab": {
          "base_uri": "https://localhost:8080/"
        },
        "id": "FfauWZCeFqHW",
        "outputId": "2a43faff-e62f-4acc-986b-885bd98331ad"
      },
      "execution_count": 28,
      "outputs": [
        {
          "output_type": "stream",
          "name": "stdout",
          "text": [
            "[0 5 3 1 7 2 4 6]\n"
          ]
        }
      ]
    },
    {
      "cell_type": "code",
      "source": [
        "\n",
        "\n",
        "# Predecir en el dataset de la compañía\n",
        "y_pred = model.predict(X_compania)\n",
        "\n",
        "# Calcular la precisión (accuracy)\n",
        "accuracy = accuracy_score(y_compania, y_pred)\n",
        "print(accuracy)\n",
        "print(f\"Precisión del modelo: {accuracy * 100:.2f}%\")"
      ],
      "metadata": {
        "colab": {
          "base_uri": "https://localhost:8080/"
        },
        "id": "kOTiES7iHE6i",
        "outputId": "9b87f642-3013-4e33-b898-4bd6bd23e4ea"
      },
      "execution_count": 33,
      "outputs": [
        {
          "output_type": "stream",
          "name": "stdout",
          "text": [
            "0.74\n",
            "Precisión del modelo: 74.00%\n"
          ]
        }
      ]
    },
    {
      "cell_type": "code",
      "source": [
        "from sklearn.metrics import confusion_matrix\n",
        "import seaborn as sns\n",
        "import matplotlib.pyplot as plt\n",
        "\n",
        "# Crear la matriz de confusión\n",
        "conf_matrix = confusion_matrix(y_compania, y_pred)\n",
        "\n",
        "# Visualizar la matriz de confusión\n",
        "sns.heatmap(conf_matrix, annot=True, fmt='d', cmap='Blues', xticklabels=model.classes_, yticklabels=model.classes_)\n",
        "plt.xlabel('Predicción')\n",
        "plt.ylabel('Real')\n",
        "plt.title('Matriz de Confusión')\n",
        "plt.show()"
      ],
      "metadata": {
        "colab": {
          "base_uri": "https://localhost:8080/",
          "height": 472
        },
        "id": "nApB3e_IHIEh",
        "outputId": "223c5fc2-ad91-43d8-be38-1d7932196a74"
      },
      "execution_count": 30,
      "outputs": [
        {
          "output_type": "display_data",
          "data": {
            "text/plain": [
              "<Figure size 640x480 with 2 Axes>"
            ],
            "image/png": "[encoded data removed]"
          },
          "metadata": {}
        }
      ]
    }
  ]
}